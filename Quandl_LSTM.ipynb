{
 "cells": [
  {
   "cell_type": "code",
   "execution_count": 326,
   "metadata": {},
   "outputs": [],
   "source": [
    "import pandas as pd\n",
    "import matplotlib.pyplot as plt\n",
    "import numpy as np\n",
    "from sklearn.model_selection import train_test_split\n",
    "\n",
    "import os\n",
    "from keras import initializers\n",
    "from keras.optimizers import Adam\n",
    "from keras.models import Sequential\n",
    "from keras.layers import Dense, LSTM, Dropout\n",
    "from keras.callbacks import EarlyStopping, ModelCheckpoint, CSVLogger\n",
    "\n",
    "\n",
    "import quandl\n",
    "quandl.read_key()"
   ]
  },
  {
   "cell_type": "code",
   "execution_count": 470,
   "metadata": {},
   "outputs": [],
   "source": [
    "col_list = ['MULTPL/SP500_REAL_PRICE_MONTH',\n",
    "            'MULTPL/SP500_DIV_YIELD_MONTH',\n",
    "            'MULTPL/SP500_PE_RATIO_MONTH',\n",
    "            'FRED/M2SL', \n",
    "            'FRED/T10Y2Y',\n",
    "            'FRED/PAYEMS',\n",
    "            'FRED/CPIAUCSL',\n",
    "            'FRED/INDPRO']\n",
    "\n",
    "col_list = ['MULTPL/SP500_REAL_PRICE_MONTH',\n",
    "            'MULTPL/SP500_PE_RATIO_MONTH',\n",
    "            'FRED/PAYEMS',\n",
    "            'FRED/GS1',\n",
    "            'FRED/IPMANSICS',\n",
    "            'FRED/CPIAUCSL']\n",
    "\n",
    "name_dict = {'MULTPL/SP500_REAL_PRICE_MONTH - Value': 'S&P500',\n",
    "             'MULTPL/SP500_DIV_YIELD_MONTH - Value' : 'DIV',\n",
    "             'MULTPL/SP500_PE_RATIO_MONTH - Value': 'PE', \n",
    "             'FRED/M2SL - Value' : 'M2',\n",
    "             'FRED/T10Y2Y - Value' : 'T10Y2Y',\n",
    "             'FRED/PAYEMS - Value' : 'PAYEMS',\n",
    "             'FRED/GS1 - Value' : 'GS1',\n",
    "             'FRED/IPMANSICS - Value' : 'IPMANSICS',\n",
    "             'FRED/CPIAUCSL - Value' : 'CPIAUCSL'}\n",
    "\n",
    "original_data = quandl.get(col_list, end_date='2020-12-31').resample('M').mean().rename(columns=name_dict)\n",
    "original_data.index = original_data.index.to_period('M').to_timestamp()\n",
    "\n",
    "\n",
    "filled_data = original_data.ffill().dropna(axis=0)\n",
    "change_data = (filled_data.diff()/filled_data).iloc[1:]\n",
    "norm_data = change_data / change_data.std()"
   ]
  },
  {
   "cell_type": "code",
   "execution_count": 471,
   "metadata": {},
   "outputs": [
    {
     "data": {
      "text/html": [
       "<div>\n",
       "<style scoped>\n",
       "    .dataframe tbody tr th:only-of-type {\n",
       "        vertical-align: middle;\n",
       "    }\n",
       "\n",
       "    .dataframe tbody tr th {\n",
       "        vertical-align: top;\n",
       "    }\n",
       "\n",
       "    .dataframe thead th {\n",
       "        text-align: right;\n",
       "    }\n",
       "</style>\n",
       "<table border=\"1\" class=\"dataframe\">\n",
       "  <thead>\n",
       "    <tr style=\"text-align: right;\">\n",
       "      <th></th>\n",
       "      <th>S&amp;P500</th>\n",
       "      <th>PE</th>\n",
       "      <th>PAYEMS</th>\n",
       "      <th>GS1</th>\n",
       "      <th>IPMANSICS</th>\n",
       "      <th>CPIAUCSL</th>\n",
       "    </tr>\n",
       "    <tr>\n",
       "      <th>Date</th>\n",
       "      <th></th>\n",
       "      <th></th>\n",
       "      <th></th>\n",
       "      <th></th>\n",
       "      <th></th>\n",
       "      <th></th>\n",
       "    </tr>\n",
       "  </thead>\n",
       "  <tbody>\n",
       "    <tr>\n",
       "      <th>1953-05-01</th>\n",
       "      <td>0.145599</td>\n",
       "      <td>-0.100390</td>\n",
       "      <td>0.172289</td>\n",
       "      <td>0.315032</td>\n",
       "      <td>0.441408</td>\n",
       "      <td>0.121219</td>\n",
       "    </tr>\n",
       "    <tr>\n",
       "      <th>1953-06-01</th>\n",
       "      <td>-1.033834</td>\n",
       "      <td>-0.806771</td>\n",
       "      <td>0.090791</td>\n",
       "      <td>-0.079722</td>\n",
       "      <td>-0.667924</td>\n",
       "      <td>0.846314</td>\n",
       "    </tr>\n",
       "    <tr>\n",
       "      <th>1953-07-01</th>\n",
       "      <td>0.389420</td>\n",
       "      <td>0.156371</td>\n",
       "      <td>0.053204</td>\n",
       "      <td>-0.191490</td>\n",
       "      <td>0.552929</td>\n",
       "      <td>0.241623</td>\n",
       "    </tr>\n",
       "    <tr>\n",
       "      <th>1953-08-01</th>\n",
       "      <td>0.114066</td>\n",
       "      <td>-0.034821</td>\n",
       "      <td>-0.147232</td>\n",
       "      <td>-0.285555</td>\n",
       "      <td>-0.110649</td>\n",
       "      <td>0.723250</td>\n",
       "    </tr>\n",
       "    <tr>\n",
       "      <th>1953-09-01</th>\n",
       "      <td>-1.339023</td>\n",
       "      <td>-0.879653</td>\n",
       "      <td>-0.379954</td>\n",
       "      <td>-0.236751</td>\n",
       "      <td>-1.810716</td>\n",
       "      <td>0.481450</td>\n",
       "    </tr>\n",
       "    <tr>\n",
       "      <th>...</th>\n",
       "      <td>...</td>\n",
       "      <td>...</td>\n",
       "      <td>...</td>\n",
       "      <td>...</td>\n",
       "      <td>...</td>\n",
       "      <td>...</td>\n",
       "    </tr>\n",
       "    <tr>\n",
       "      <th>2020-08-01</th>\n",
       "      <td>1.668262</td>\n",
       "      <td>0.994480</td>\n",
       "      <td>1.673967</td>\n",
       "      <td>-1.001640</td>\n",
       "      <td>1.196247</td>\n",
       "      <td>1.194008</td>\n",
       "    </tr>\n",
       "    <tr>\n",
       "      <th>2020-09-01</th>\n",
       "      <td>-0.676028</td>\n",
       "      <td>-0.383474</td>\n",
       "      <td>0.793183</td>\n",
       "      <td>0.000000</td>\n",
       "      <td>0.069743</td>\n",
       "      <td>0.656740</td>\n",
       "    </tr>\n",
       "    <tr>\n",
       "      <th>2020-10-01</th>\n",
       "      <td>0.443020</td>\n",
       "      <td>1.474043</td>\n",
       "      <td>0.726244</td>\n",
       "      <td>0.000000</td>\n",
       "      <td>0.910287</td>\n",
       "      <td>0.144219</td>\n",
       "    </tr>\n",
       "    <tr>\n",
       "      <th>2020-11-01</th>\n",
       "      <td>1.292828</td>\n",
       "      <td>0.815449</td>\n",
       "      <td>0.372238</td>\n",
       "      <td>-0.542555</td>\n",
       "      <td>0.613573</td>\n",
       "      <td>0.610536</td>\n",
       "    </tr>\n",
       "    <tr>\n",
       "      <th>2020-12-01</th>\n",
       "      <td>0.950128</td>\n",
       "      <td>0.534467</td>\n",
       "      <td>-0.155251</td>\n",
       "      <td>-1.302132</td>\n",
       "      <td>0.000000</td>\n",
       "      <td>0.000000</td>\n",
       "    </tr>\n",
       "  </tbody>\n",
       "</table>\n",
       "<p>812 rows × 6 columns</p>\n",
       "</div>"
      ],
      "text/plain": [
       "              S&P500        PE    PAYEMS       GS1  IPMANSICS  CPIAUCSL\n",
       "Date                                                                   \n",
       "1953-05-01  0.145599 -0.100390  0.172289  0.315032   0.441408  0.121219\n",
       "1953-06-01 -1.033834 -0.806771  0.090791 -0.079722  -0.667924  0.846314\n",
       "1953-07-01  0.389420  0.156371  0.053204 -0.191490   0.552929  0.241623\n",
       "1953-08-01  0.114066 -0.034821 -0.147232 -0.285555  -0.110649  0.723250\n",
       "1953-09-01 -1.339023 -0.879653 -0.379954 -0.236751  -1.810716  0.481450\n",
       "...              ...       ...       ...       ...        ...       ...\n",
       "2020-08-01  1.668262  0.994480  1.673967 -1.001640   1.196247  1.194008\n",
       "2020-09-01 -0.676028 -0.383474  0.793183  0.000000   0.069743  0.656740\n",
       "2020-10-01  0.443020  1.474043  0.726244  0.000000   0.910287  0.144219\n",
       "2020-11-01  1.292828  0.815449  0.372238 -0.542555   0.613573  0.610536\n",
       "2020-12-01  0.950128  0.534467 -0.155251 -1.302132   0.000000  0.000000\n",
       "\n",
       "[812 rows x 6 columns]"
      ]
     },
     "execution_count": 471,
     "metadata": {},
     "output_type": "execute_result"
    }
   ],
   "source": [
    "norm_data"
   ]
  },
  {
   "cell_type": "code",
   "execution_count": 472,
   "metadata": {},
   "outputs": [],
   "source": [
    "def make_dataset(data, label, window_size=12):\n",
    "    feature_list = []\n",
    "    label_list = []\n",
    "    for i in range(len(data) - window_size):\n",
    "        feature_list.append(np.array(data.iloc[i:i+window_size]))\n",
    "        label_list.append(np.array(label.iloc[i+window_size]))\n",
    "    return np.array(feature_list), np.array(label_list)"
   ]
  },
  {
   "cell_type": "code",
   "execution_count": 473,
   "metadata": {},
   "outputs": [],
   "source": [
    "window = 12\n",
    "\n",
    "feature_cols = norm_data.columns\n",
    "label_cols = ['S&P500']\n",
    "\n",
    "data = norm_data\n",
    "\n",
    "train = data.iloc[:-150]\n",
    "test = data.iloc[-150-window:]\n",
    "\n",
    "train_feature = train[feature_cols]\n",
    "train_label = train[label_cols]\n",
    "\n",
    "test_feature = (test[feature_cols]-test[feature_cols].mean())/test[feature_cols].std()\n",
    "test_label = test[label_cols]*1\n",
    "\n",
    "train_feature, train_label = make_dataset(train_feature, train_label, window)\n",
    "x_train, x_valid, y_train, y_valid = train_test_split(train_feature, train_label, test_size=0.2)\n",
    "\n",
    "test_feature, test_label = make_dataset(test_feature, test_label, window)"
   ]
  },
  {
   "cell_type": "code",
   "execution_count": 527,
   "metadata": {},
   "outputs": [],
   "source": [
    "model = Sequential()\n",
    "model.add(Dropout(0.2))\n",
    "model.add(LSTM(1024,\n",
    "               input_shape=(train_feature.shape[1], train_feature.shape[2]),\n",
    "               activation='relu',\n",
    "               kernel_initializer=initializers.RandomNormal(stddev=0.1, seed=1),\n",
    "               bias_initializer=initializers.Zeros(),\n",
    "               return_sequences=True)\n",
    "          )\n",
    "model.add(Dropout(0.5))\n",
    "model.add(LSTM(512,\n",
    "               input_shape=(train_feature.shape[1], train_feature.shape[2]),\n",
    "               activation='relu',\n",
    "               kernel_initializer=initializers.RandomNormal(stddev=0.1, seed=1),\n",
    "               bias_initializer=initializers.Zeros(),\n",
    "               return_sequences=False)\n",
    "          )\n",
    "model.add(Dropout(0.5))\n",
    "model.add(Dense(1))"
   ]
  },
  {
   "cell_type": "code",
   "execution_count": 528,
   "metadata": {
    "scrolled": true
   },
   "outputs": [
    {
     "name": "stdout",
     "output_type": "stream",
     "text": [
      "Epoch 1/100\n",
      "33/33 [==============================] - ETA: 0s - loss: 1.3012\n",
      "Epoch 00001: val_loss improved from inf to 0.71449, saving model to tmp_checkpoint.h5\n",
      "33/33 [==============================] - 9s 277ms/step - loss: 1.3012 - val_loss: 0.7145\n",
      "Epoch 2/100\n",
      "33/33 [==============================] - ETA: 0s - loss: 1.2916\n",
      "Epoch 00002: val_loss improved from 0.71449 to 0.70670, saving model to tmp_checkpoint.h5\n",
      "33/33 [==============================] - 9s 271ms/step - loss: 1.2916 - val_loss: 0.7067\n",
      "Epoch 3/100\n",
      "33/33 [==============================] - ETA: 0s - loss: 1.1529\n",
      "Epoch 00003: val_loss improved from 0.70670 to 0.70140, saving model to tmp_checkpoint.h5\n",
      "33/33 [==============================] - 9s 265ms/step - loss: 1.1529 - val_loss: 0.7014\n",
      "Epoch 4/100\n",
      "33/33 [==============================] - ETA: 0s - loss: 1.1911\n",
      "Epoch 00004: val_loss improved from 0.70140 to 0.69881, saving model to tmp_checkpoint.h5\n",
      "33/33 [==============================] - 9s 268ms/step - loss: 1.1911 - val_loss: 0.6988\n",
      "Epoch 5/100\n",
      "33/33 [==============================] - ETA: 0s - loss: 1.1436\n",
      "Epoch 00005: val_loss improved from 0.69881 to 0.69779, saving model to tmp_checkpoint.h5\n",
      "33/33 [==============================] - 9s 268ms/step - loss: 1.1436 - val_loss: 0.6978\n",
      "Epoch 6/100\n",
      "33/33 [==============================] - ETA: 0s - loss: 1.1353\n",
      "Epoch 00006: val_loss improved from 0.69779 to 0.69759, saving model to tmp_checkpoint.h5\n",
      "33/33 [==============================] - 9s 275ms/step - loss: 1.1353 - val_loss: 0.6976\n",
      "Epoch 7/100\n",
      "33/33 [==============================] - ETA: 0s - loss: 1.1799\n",
      "Epoch 00007: val_loss improved from 0.69759 to 0.69729, saving model to tmp_checkpoint.h5\n",
      "33/33 [==============================] - 9s 271ms/step - loss: 1.1799 - val_loss: 0.6973\n",
      "Epoch 8/100\n",
      "33/33 [==============================] - ETA: 0s - loss: 1.0998\n",
      "Epoch 00008: val_loss improved from 0.69729 to 0.69712, saving model to tmp_checkpoint.h5\n",
      "33/33 [==============================] - 9s 266ms/step - loss: 1.0998 - val_loss: 0.6971\n",
      "Epoch 9/100\n",
      "33/33 [==============================] - ETA: 0s - loss: 1.1168\n",
      "Epoch 00009: val_loss improved from 0.69712 to 0.69648, saving model to tmp_checkpoint.h5\n",
      "33/33 [==============================] - 9s 265ms/step - loss: 1.1168 - val_loss: 0.6965\n",
      "Epoch 10/100\n",
      "33/33 [==============================] - ETA: 0s - loss: 1.1846\n",
      "Epoch 00010: val_loss improved from 0.69648 to 0.69589, saving model to tmp_checkpoint.h5\n",
      "33/33 [==============================] - 9s 262ms/step - loss: 1.1846 - val_loss: 0.6959\n",
      "Epoch 11/100\n",
      "33/33 [==============================] - ETA: 0s - loss: 1.2270\n",
      "Epoch 00011: val_loss improved from 0.69589 to 0.69575, saving model to tmp_checkpoint.h5\n",
      "33/33 [==============================] - 9s 265ms/step - loss: 1.2270 - val_loss: 0.6957\n",
      "Epoch 12/100\n",
      "33/33 [==============================] - ETA: 0s - loss: 1.1421\n",
      "Epoch 00012: val_loss improved from 0.69575 to 0.69546, saving model to tmp_checkpoint.h5\n",
      "33/33 [==============================] - 9s 263ms/step - loss: 1.1421 - val_loss: 0.6955\n",
      "Epoch 13/100\n",
      "33/33 [==============================] - ETA: 0s - loss: 1.1681\n",
      "Epoch 00013: val_loss improved from 0.69546 to 0.69540, saving model to tmp_checkpoint.h5\n",
      "33/33 [==============================] - 9s 262ms/step - loss: 1.1681 - val_loss: 0.6954\n",
      "Epoch 14/100\n",
      "33/33 [==============================] - ETA: 0s - loss: 1.0678\n",
      "Epoch 00014: val_loss did not improve from 0.69540\n",
      "33/33 [==============================] - 9s 266ms/step - loss: 1.0678 - val_loss: 0.6956\n",
      "Epoch 15/100\n",
      "33/33 [==============================] - ETA: 0s - loss: 1.2069\n",
      "Epoch 00015: val_loss improved from 0.69540 to 0.69293, saving model to tmp_checkpoint.h5\n",
      "33/33 [==============================] - 9s 272ms/step - loss: 1.2069 - val_loss: 0.6929\n",
      "Epoch 16/100\n",
      "33/33 [==============================] - ETA: 0s - loss: 1.2326\n",
      "Epoch 00016: val_loss improved from 0.69293 to 0.69206, saving model to tmp_checkpoint.h5\n",
      "33/33 [==============================] - 9s 272ms/step - loss: 1.2326 - val_loss: 0.6921\n",
      "Epoch 17/100\n",
      "33/33 [==============================] - ETA: 0s - loss: 1.2084\n",
      "Epoch 00017: val_loss improved from 0.69206 to 0.69158, saving model to tmp_checkpoint.h5\n",
      "33/33 [==============================] - 9s 268ms/step - loss: 1.2084 - val_loss: 0.6916\n",
      "Epoch 18/100\n",
      "33/33 [==============================] - ETA: 0s - loss: 1.2301\n",
      "Epoch 00018: val_loss improved from 0.69158 to 0.69099, saving model to tmp_checkpoint.h5\n",
      "33/33 [==============================] - 9s 265ms/step - loss: 1.2301 - val_loss: 0.6910\n",
      "Epoch 19/100\n",
      "33/33 [==============================] - ETA: 0s - loss: 1.1994\n",
      "Epoch 00019: val_loss did not improve from 0.69099\n",
      "33/33 [==============================] - 9s 259ms/step - loss: 1.1994 - val_loss: 0.6921\n",
      "Epoch 20/100\n",
      "33/33 [==============================] - ETA: 0s - loss: 1.1321\n",
      "Epoch 00020: val_loss did not improve from 0.69099\n",
      "33/33 [==============================] - 9s 260ms/step - loss: 1.1321 - val_loss: 0.6934\n",
      "Epoch 21/100\n",
      "33/33 [==============================] - ETA: 0s - loss: 1.2192\n",
      "Epoch 00021: val_loss did not improve from 0.69099\n",
      "33/33 [==============================] - 9s 260ms/step - loss: 1.2192 - val_loss: 0.6943\n",
      "Epoch 22/100\n",
      "33/33 [==============================] - ETA: 0s - loss: 1.1340\n",
      "Epoch 00022: val_loss did not improve from 0.69099\n",
      "33/33 [==============================] - 9s 259ms/step - loss: 1.1340 - val_loss: 0.6931\n",
      "Epoch 23/100\n",
      "33/33 [==============================] - ETA: 0s - loss: 1.1834\n",
      "Epoch 00023: val_loss did not improve from 0.69099\n",
      "33/33 [==============================] - 9s 262ms/step - loss: 1.1834 - val_loss: 0.6928\n",
      "Epoch 24/100\n",
      "33/33 [==============================] - ETA: 0s - loss: 1.1146\n",
      "Epoch 00024: val_loss did not improve from 0.69099\n",
      "33/33 [==============================] - 9s 267ms/step - loss: 1.1146 - val_loss: 0.6924\n",
      "Epoch 25/100\n",
      "33/33 [==============================] - ETA: 0s - loss: 1.0784\n",
      "Epoch 00025: val_loss did not improve from 0.69099\n",
      "33/33 [==============================] - 9s 270ms/step - loss: 1.0784 - val_loss: 0.6931\n",
      "Epoch 26/100\n",
      "33/33 [==============================] - ETA: 0s - loss: 1.1360\n",
      "Epoch 00026: val_loss did not improve from 0.69099\n",
      "33/33 [==============================] - 9s 265ms/step - loss: 1.1360 - val_loss: 0.6927\n",
      "Epoch 27/100\n",
      "33/33 [==============================] - ETA: 0s - loss: 1.1204\n",
      "Epoch 00027: val_loss did not improve from 0.69099\n",
      "33/33 [==============================] - 9s 268ms/step - loss: 1.1204 - val_loss: 0.6931\n",
      "Epoch 28/100\n",
      "33/33 [==============================] - ETA: 0s - loss: 1.1440\n",
      "Epoch 00028: val_loss did not improve from 0.69099\n",
      "33/33 [==============================] - 9s 260ms/step - loss: 1.1440 - val_loss: 0.6927\n",
      "Epoch 29/100\n",
      "33/33 [==============================] - ETA: 0s - loss: 1.1552\n",
      "Epoch 00029: val_loss did not improve from 0.69099\n",
      "33/33 [==============================] - 9s 263ms/step - loss: 1.1552 - val_loss: 0.6930\n",
      "Epoch 30/100\n",
      "33/33 [==============================] - ETA: 0s - loss: 1.1607\n",
      "Epoch 00030: val_loss did not improve from 0.69099\n",
      "33/33 [==============================] - 9s 266ms/step - loss: 1.1607 - val_loss: 0.6935\n",
      "Epoch 31/100\n",
      "33/33 [==============================] - ETA: 0s - loss: 1.0927\n",
      "Epoch 00031: val_loss did not improve from 0.69099\n",
      "33/33 [==============================] - 9s 261ms/step - loss: 1.0927 - val_loss: 0.6933\n",
      "Epoch 32/100\n",
      "33/33 [==============================] - ETA: 0s - loss: 1.1143\n",
      "Epoch 00032: val_loss did not improve from 0.69099\n",
      "33/33 [==============================] - 9s 262ms/step - loss: 1.1143 - val_loss: 0.6940\n",
      "Epoch 33/100\n",
      "33/33 [==============================] - ETA: 0s - loss: 1.1429\n",
      "Epoch 00033: val_loss did not improve from 0.69099\n",
      "33/33 [==============================] - 8s 257ms/step - loss: 1.1429 - val_loss: 0.6937\n",
      "Epoch 34/100\n",
      "33/33 [==============================] - ETA: 0s - loss: 1.1269\n",
      "Epoch 00034: val_loss did not improve from 0.69099\n",
      "33/33 [==============================] - 9s 262ms/step - loss: 1.1269 - val_loss: 0.6945\n",
      "Epoch 35/100\n",
      "33/33 [==============================] - ETA: 0s - loss: 1.1240\n",
      "Epoch 00035: val_loss did not improve from 0.69099\n",
      "33/33 [==============================] - 9s 259ms/step - loss: 1.1240 - val_loss: 0.6965\n",
      "Epoch 36/100\n",
      "33/33 [==============================] - ETA: 0s - loss: 1.1202\n",
      "Epoch 00036: val_loss did not improve from 0.69099\n",
      "33/33 [==============================] - 9s 268ms/step - loss: 1.1202 - val_loss: 0.6973\n",
      "Epoch 37/100\n",
      "33/33 [==============================] - ETA: 0s - loss: 1.1146\n",
      "Epoch 00037: val_loss did not improve from 0.69099\n",
      "33/33 [==============================] - 9s 259ms/step - loss: 1.1146 - val_loss: 0.6960\n",
      "Epoch 38/100\n",
      "33/33 [==============================] - ETA: 0s - loss: 1.0668\n",
      "Epoch 00038: val_loss did not improve from 0.69099\n",
      "33/33 [==============================] - 9s 260ms/step - loss: 1.0668 - val_loss: 0.6968\n"
     ]
    },
    {
     "data": {
      "text/plain": [
       "<tensorflow.python.keras.callbacks.History at 0x1e83fd38700>"
      ]
     },
     "execution_count": 528,
     "metadata": {},
     "output_type": "execute_result"
    }
   ],
   "source": [
    "model.compile(loss='mean_squared_error', optimizer=Adam(lr=1e-6))\n",
    "early_stop = EarlyStopping(monitor='val_loss', patience=20)\n",
    "filename = os.path.join('tmp_checkpoint.h5')\n",
    "checkpoint = ModelCheckpoint(filename, monitor='val_loss', verbose=1, save_best_only=True, mode='auto')\n",
    "\n",
    "pd.DataFrame(list()).to_csv('log.csv')\n",
    "csv_logger = CSVLogger('log.csv', append=True, separator=';')\n",
    "model.fit(x_train, y_train,\n",
    "          epochs=100,\n",
    "          batch_size=16,\n",
    "          validation_data=(x_valid, y_valid),\n",
    "          callbacks=[early_stop, checkpoint, csv_logger])\n"
   ]
  },
  {
   "cell_type": "code",
   "execution_count": 529,
   "metadata": {},
   "outputs": [],
   "source": [
    "model.load_weights(filename)\n",
    "pred_prob = model.predict(test_feature)\n",
    "prev_prob = model.predict(train_feature)\n",
    "\n",
    "prev_data = norm_data[window:-150]\n",
    "prev_data.insert(2, 'train', train_label, True)\n",
    "prev_data.insert(2, 'prev', prev_prob, True)\n",
    "\n",
    "pred_data = norm_data[-150:]\n",
    "pred_data.insert(2, 'test', test_label, True)\n",
    "pred_data.insert(2, 'pred', pred_prob, True)\n"
   ]
  },
  {
   "cell_type": "code",
   "execution_count": 530,
   "metadata": {},
   "outputs": [
    {
     "data": {
      "text/plain": [
       "[<matplotlib.lines.Line2D at 0x1e8281f6520>,\n",
       " <matplotlib.lines.Line2D at 0x1e821a4d4f0>]"
      ]
     },
     "execution_count": 530,
     "metadata": {},
     "output_type": "execute_result"
    },
    {
     "data": {
      "image/png": "[encoded data removed]",
      "text/plain": [
       "<Figure size 432x288 with 1 Axes>"
      ]
     },
     "metadata": {
      "needs_background": "light"
     },
     "output_type": "display_data"
    }
   ],
   "source": [
    "plt.plot(prev_data[['train','prev']])"
   ]
  },
  {
   "cell_type": "code",
   "execution_count": 531,
   "metadata": {},
   "outputs": [
    {
     "data": {
      "text/plain": [
       "[<matplotlib.lines.Line2D at 0x1e83fe68d60>,\n",
       " <matplotlib.lines.Line2D at 0x1e83fe50e50>]"
      ]
     },
     "execution_count": 531,
     "metadata": {},
     "output_type": "execute_result"
    },
    {
     "data": {
      "image/png": "[encoded data removed]",
      "text/plain": [
       "<Figure size 432x288 with 1 Axes>"
      ]
     },
     "metadata": {
      "needs_background": "light"
     },
     "output_type": "display_data"
    }
   ],
   "source": [
    "plt.plot(pred_data[['test','pred']])"
   ]
  },
  {
   "cell_type": "code",
   "execution_count": 532,
   "metadata": {},
   "outputs": [
    {
     "name": "stdout",
     "output_type": "stream",
     "text": [
      "train confusion =  358 36 222 34\n",
      "test confusion =  84 16 37 13\n"
     ]
    }
   ],
   "source": [
    "## Output confusion matrix ##\n",
    "a, b, c, d = 0, 0, 0, 0\n",
    "for idx in range(prev_data.shape[0]):\n",
    "    if prev_data[['train']].iloc[idx][0] >= 0 and prev_data[['prev']].iloc[idx][0] >= 0:\n",
    "        a += 1\n",
    "    elif prev_data[['train']].iloc[idx][0] >= 0 and prev_data[['prev']].iloc[idx][0] < 0:\n",
    "        b += 1\n",
    "    elif prev_data[['train']].iloc[idx][0] < 0 and prev_data[['prev']].iloc[idx][0] >= 0:\n",
    "        c += 1\n",
    "    elif prev_data[['train']].iloc[idx][0] < 0 and prev_data[['prev']].iloc[idx][0] < 0:\n",
    "        d += 1\n",
    "print('train confusion = ', a, b, c, d)\n",
    "\n",
    "\n",
    "a, b, c, d = 0, 0, 0, 0\n",
    "for idx in range(pred_data.shape[0]):\n",
    "    if pred_data[['test']].iloc[idx][0] >= 0 and pred_data[['pred']].iloc[idx][0] >= 0:\n",
    "        a += 1\n",
    "    elif pred_data[['test']].iloc[idx][0] >= 0 and pred_data[['pred']].iloc[idx][0] < 0:\n",
    "        b += 1\n",
    "    elif pred_data[['test']].iloc[idx][0] < 0 and pred_data[['pred']].iloc[idx][0] >= 0:\n",
    "        c += 1\n",
    "    elif pred_data[['test']].iloc[idx][0] < 0 and pred_data[['pred']].iloc[idx][0] < 0:\n",
    "        d += 1\n",
    "print('test confusion = ', a, b, c, d)"
   ]
  },
  {
   "cell_type": "code",
   "execution_count": 533,
   "metadata": {},
   "outputs": [],
   "source": [
    "pred, prev = [1 if a > 0. else 0 for a in pred_prob], [1 if a > 0. else 0 for a in prev_prob]\n",
    "\n",
    "prev_data = filled_data[1:][window:-150]\n",
    "prev_data.insert(2, 'prediction', prev, True)\n",
    "\n",
    "asset = 1\n",
    "asset_list_1 = [asset]\n",
    "for i in range(len(prev) - 1):\n",
    "    asset = asset * prev_data[['S&P500']].iloc[i + 1][0] / prev_data[['S&P500']].iloc[i][0]\n",
    "    asset_list_1.append(asset)\n",
    "\n",
    "asset = 1\n",
    "asset_list_2 = [asset]\n",
    "for i in range(len(prev) - 1):\n",
    "    if prev_data[['prediction']].iloc[i + 1][0] == 1:\n",
    "        asset = asset * prev_data[['S&P500']].iloc[i + 1][0] / prev_data[['S&P500']].iloc[i][0]\n",
    "    else:\n",
    "        asset = asset * (2 - prev_data[['S&P500']].iloc[i + 1][0] / prev_data[['S&P500']].iloc[i][0])\n",
    "    asset_list_2.append(asset)\n",
    "\n",
    "prev_data.insert(2, 'bench', asset_list_1, True)\n",
    "prev_data.insert(2, 'etf', asset_list_2, True)\n",
    "\n",
    "\n",
    "\n",
    "pred_data = filled_data[1:][-150:]\n",
    "pred_data.insert(2, 'prediction', pred, True)\n",
    "\n",
    "asset = 1\n",
    "asset_list_1 = [asset]\n",
    "for i in range(len(pred) - 1):\n",
    "    asset = asset * pred_data[['S&P500']].iloc[i + 1][0] / pred_data[['S&P500']].iloc[i][0]\n",
    "    asset_list_1.append(asset)\n",
    "\n",
    "asset = 1\n",
    "asset_list_2 = [asset]\n",
    "for i in range(len(pred) - 1):\n",
    "    if pred_data[['prediction']].iloc[i + 1][0] == 1:\n",
    "        asset = asset * pred_data[['S&P500']].iloc[i + 1][0] / pred_data[['S&P500']].iloc[i][0]\n",
    "    else:\n",
    "        asset = asset * (2 - pred_data[['S&P500']].iloc[i + 1][0] / pred_data[['S&P500']].iloc[i][0])\n",
    "    asset_list_2.append(asset)\n",
    "\n",
    "pred_data.insert(2, 'bench', asset_list_1, True)\n",
    "pred_data.insert(2, 'etf', asset_list_2, True)\n"
   ]
  },
  {
   "cell_type": "code",
   "execution_count": 534,
   "metadata": {},
   "outputs": [
    {
     "data": {
      "image/png": "[encoded data removed]",
      "text/plain": [
       "<Figure size 432x288 with 1 Axes>"
      ]
     },
     "metadata": {
      "needs_background": "light"
     },
     "output_type": "display_data"
    }
   ],
   "source": [
    "plt.plot(prev_data[['bench','etf']])\n",
    "plt.yscale('log')"
   ]
  },
  {
   "cell_type": "code",
   "execution_count": 535,
   "metadata": {},
   "outputs": [
    {
     "data": {
      "image/png": "[encoded data removed]",
      "text/plain": [
       "<Figure size 432x288 with 1 Axes>"
      ]
     },
     "metadata": {
      "needs_background": "light"
     },
     "output_type": "display_data"
    }
   ],
   "source": [
    "plt.plot(pred_data[['bench','etf']])\n",
    "plt.yscale('log')"
   ]
  },
  {
   "cell_type": "code",
   "execution_count": null,
   "metadata": {},
   "outputs": [],
   "source": []
  },
  {
   "cell_type": "code",
   "execution_count": null,
   "metadata": {},
   "outputs": [],
   "source": []
  }
 ],
 "metadata": {
  "kernelspec": {
   "display_name": "Python 3",
   "language": "python",
   "name": "python3"
  },
  "language_info": {
   "codemirror_mode": {
    "name": "ipython",
    "version": 3
   },
   "file_extension": ".py",
   "mimetype": "text/x-python",
   "name": "python",
   "nbconvert_exporter": "python",
   "pygments_lexer": "ipython3",
   "version": "3.8.3"
  }
 },
 "nbformat": 4,
 "nbformat_minor": 4
}
