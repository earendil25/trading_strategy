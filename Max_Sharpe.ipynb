{
 "cells": [
  {
   "cell_type": "code",
   "execution_count": 1,
   "metadata": {},
   "outputs": [],
   "source": [
    "import pandas as pd\n",
    "import matplotlib.pyplot as plt\n",
    "import numpy as np\n",
    "import scipy.linalg as la\n",
    "\n",
    "\n",
    "import quandl\n",
    "quandl.read_key()"
   ]
  },
  {
   "cell_type": "code",
   "execution_count": 2,
   "metadata": {},
   "outputs": [
    {
     "name": "stdout",
     "output_type": "stream",
     "text": [
      "28\n",
      "['GS', 'CVX', 'XOM', 'WMT', 'VZ', 'AAPL', 'GE', 'MSFT', 'AXP', 'HD', 'PG', 'CSCO', 'KO', 'CAT', 'PFE', 'DD', 'TSLA', 'JNJ', 'JPM', 'TRV', 'UNH', 'MCD', 'MMM', 'MRK', 'IBM', 'NKE', 'INTC', 'BA']\n"
     ]
    }
   ],
   "source": [
    "ticker_list = list(set([x[0] for x in quandl.get_table('SHARADAR/SEP')[['ticker']].values.tolist()]) &\n",
    "                  set([x[0] for x in quandl.get_table('SHARADAR/DAILY')[['ticker']].values.tolist()]))\n",
    "print(len(ticker_list))\n",
    "print(ticker_list)"
   ]
  },
  {
   "cell_type": "code",
   "execution_count": 110,
   "metadata": {},
   "outputs": [],
   "source": [
    "daily = quandl.get_table('SHARADAR/DAILY', ticker=ticker_list)\n",
    "SEP = quandl.get_table('SHARADAR/SEP', ticker=ticker_list)\n",
    "date_list = sorted(list(set(SEP['date'].tolist())))\n",
    "\n",
    "def yesterday(today):\n",
    "    return date_list[date_list.index(today)-1]"
   ]
  },
  {
   "cell_type": "markdown",
   "metadata": {},
   "source": [
    "## GMV portfolio"
   ]
  },
  {
   "cell_type": "code",
   "execution_count": 118,
   "metadata": {},
   "outputs": [
    {
     "name": "stdout",
     "output_type": "stream",
     "text": [
      "2018-10-16 00:00:00\n",
      "2018-10-17 00:00:00\n",
      "1.0070025637661928 1.0070025637661928\n",
      "2018-10-18 00:00:00\n",
      "0.9980154005506177 1.005004067032616\n",
      "2018-10-19 00:00:00\n",
      "1.0061363852484975 1.0111711591642347\n",
      "2018-10-20 00:00:00\n",
      "2018-10-21 00:00:00\n",
      "2018-10-22 00:00:00\n",
      "0.9857437062828704 0.9967556061208991\n",
      "2018-10-23 00:00:00\n",
      "1.0002783225484821 0.9970330256814085\n",
      "2018-10-24 00:00:00\n",
      "0.9872824371954806 0.9843531955591251\n",
      "2018-10-25 00:00:00\n",
      "1.025946915408293 1.0098941246561806\n",
      "2018-10-26 00:00:00\n",
      "0.987310540809886 0.9970791143750201\n",
      "2018-10-27 00:00:00\n",
      "2018-10-28 00:00:00\n",
      "2018-10-29 00:00:00\n",
      "1.0210250208981115 1.0180427235918255\n",
      "2018-10-30 00:00:00\n",
      "1.0159505123332542 1.0342810266102564\n",
      "2018-10-31 00:00:00\n",
      "1.0184505247369235 1.0533640542766596\n",
      "2018-11-01 00:00:00\n",
      "1.0064310281595459 1.0601382681719662\n",
      "2018-11-02 00:00:00\n",
      "0.9891566436333197 1.0486428111322224\n",
      "2018-11-03 00:00:00\n",
      "2018-11-04 00:00:00\n",
      "2018-11-05 00:00:00\n",
      "0.9984111167796988 1.046976640165525\n",
      "2018-11-06 00:00:00\n",
      "1.0027044654307762 1.0498081522956828\n",
      "2018-11-07 00:00:00\n",
      "1.0417251918273758 1.093611598832163\n",
      "2018-11-08 00:00:00\n",
      "0.9924579472699662 1.0853635224875944\n",
      "2018-11-09 00:00:00\n",
      "0.9936594574445139 1.0784817288850894\n",
      "2018-11-10 00:00:00\n",
      "2018-11-11 00:00:00\n",
      "2018-11-12 00:00:00\n",
      "0.96543248819755 1.0412012989931274\n",
      "2018-11-13 00:00:00\n",
      "0.9942747056015142 1.035240115028306\n",
      "2018-11-14 00:00:00\n",
      "0.9885049257086761 1.0233399529966969\n",
      "2018-11-15 00:00:00\n",
      "1.0072588229808734 1.0307681965647553\n",
      "2018-11-16 00:00:00\n",
      "1.0033805794283732 1.0342527903254835\n",
      "2018-11-17 00:00:00\n",
      "2018-11-18 00:00:00\n",
      "2018-11-19 00:00:00\n",
      "0.9866967182450543 1.0204938340499448\n",
      "2018-11-20 00:00:00\n",
      "0.9803773804144688 1.0004690717550024\n",
      "2018-11-21 00:00:00\n",
      "0.990159118555008 0.9906235742304803\n",
      "2018-11-22 00:00:00\n",
      "2018-11-23 00:00:00\n",
      "0.9951296688398753 0.9857989093689515\n",
      "2018-11-24 00:00:00\n",
      "2018-11-25 00:00:00\n",
      "2018-11-26 00:00:00\n",
      "0.9979234202726253 0.9837518193384879\n",
      "2018-11-27 00:00:00\n",
      "1.0101438171539376 0.993730817918711\n",
      "2018-11-28 00:00:00\n",
      "1.0433994538260611 1.0368581926665081\n",
      "2018-11-29 00:00:00\n",
      "0.9930932322740971 1.029696853965061\n",
      "2018-11-30 00:00:00\n",
      "1.0026182041853686 1.0323928105777733\n",
      "2018-12-01 00:00:00\n",
      "2018-12-02 00:00:00\n",
      "2018-12-03 00:00:00\n",
      "0.9851913835960509 1.0171045014677322\n",
      "2018-12-04 00:00:00\n",
      "0.9746672829244716 0.9913384808958038\n",
      "2018-12-05 00:00:00\n",
      "2018-12-06 00:00:00\n",
      "0.9869440597921886 0.9783956249635256\n",
      "2018-12-07 00:00:00\n",
      "0.9904619335530072 0.9690636224811764\n",
      "2018-12-08 00:00:00\n",
      "2018-12-09 00:00:00\n",
      "2018-12-10 00:00:00\n",
      "0.9974031866034352 0.9665471450841936\n",
      "2018-12-11 00:00:00\n",
      "1.0006118051326895 0.9671384835885425\n",
      "2018-12-12 00:00:00\n",
      "1.004094298358406 0.9710982370942504\n",
      "2018-12-13 00:00:00\n",
      "1.0094867893639916 0.9803108415213071\n",
      "2018-12-14 00:00:00\n",
      "0.9806404105337889 0.9613324260801787\n",
      "2018-12-15 00:00:00\n",
      "2018-12-16 00:00:00\n",
      "2018-12-17 00:00:00\n",
      "0.9735270550095769 0.9358831256470481\n",
      "2018-12-18 00:00:00\n",
      "0.9861781939860319 0.9229475306326085\n",
      "2018-12-19 00:00:00\n",
      "0.982568356659266 0.9068590384564097\n",
      "2018-12-20 00:00:00\n",
      "0.9824814568593946 0.8909721892687631\n",
      "2018-12-21 00:00:00\n",
      "0.9826792476007518 0.8755398805838227\n",
      "2018-12-22 00:00:00\n",
      "2018-12-23 00:00:00\n",
      "2018-12-24 00:00:00\n",
      "0.9651701967816512 0.8450449988332716\n",
      "2018-12-25 00:00:00\n",
      "2018-12-26 00:00:00\n",
      "1.0428144085583095 0.8812251006634755\n",
      "2018-12-27 00:00:00\n",
      "1.015611869386782 0.8949826718353874\n",
      "2018-12-28 00:00:00\n",
      "0.9995654946363367 0.8945937970640891\n",
      "2018-12-29 00:00:00\n",
      "2018-12-30 00:00:00\n",
      "2018-12-31 00:00:00\n",
      "1.0207017407796348 0.9131134459539791\n"
     ]
    }
   ],
   "source": [
    "size = 10\n",
    "window = 30\n",
    "day = pd.Timedelta(days=1)\n",
    "\n",
    "start_date = date_list[window]\n",
    "end_date = date_list[-1]\n",
    "\n",
    "now_date = start_date\n",
    "\n",
    "asset = 1\n",
    "asset_list = [1]\n",
    "\n",
    "while(now_date <= end_date):\n",
    "    print(now_date)\n",
    "    if now_date in date_list:\n",
    "        if now_date > start_date:\n",
    "            ret = 0\n",
    "            for idx in range(size):\n",
    "                ret += long_weight[idx]*(SEP[(SEP.ticker == long_list[idx]) & (SEP.date == now_date)].close.values[0]\n",
    "                                  / SEP[(SEP.ticker == long_list[idx]) & (SEP.date == yesterday(now_date))].close.values[0])\n",
    "            asset = ret*asset\n",
    "            asset_list.append(asset)\n",
    "            print(ret, asset)\n",
    "        \n",
    "        long_list = daily.loc[daily['date']==now_date].sort_values('marketcap')[-size:]['ticker'].tolist()\n",
    "        corr_df = SEP[(SEP.ticker == long_list[0]) & (now_date - window*day <= SEP.date) & (SEP.date < now_date) ][['date']]\n",
    "        for long in long_list:\n",
    "            input_data = 100*(SEP[(SEP.ticker == long) & (now_date - window*day <= SEP.date) & (SEP.date < now_date) ].close.diff(periods=-1)\n",
    "                          / SEP[(SEP.ticker == long) & (now_date - window*day <= SEP.date) & (SEP.date < now_date) ].close)\n",
    "            corr_df[long] = input_data.tolist()\n",
    "\n",
    "        eigsys = la.eig(corr_df.cov().to_numpy())\n",
    "        for idx in range(len(eigsys[1])):\n",
    "            eigsys[1][idx]= eigsys[1][idx]/(np.sum(eigsys[1][idx]))\n",
    "\n",
    "        option = []\n",
    "        for idx in range(len(eigsys[1])):\n",
    "            option.append(eigsys[0][idx]*np.sum([a*a for a in eigsys[1][idx]]))\n",
    "\n",
    "        opt_idx = np.argmin(option)\n",
    "        long_weight = list(eigsys[1][opt_idx])\n",
    "        \n",
    "        \n",
    "    now_date += day"
   ]
  },
  {
   "cell_type": "code",
   "execution_count": 119,
   "metadata": {},
   "outputs": [
    {
     "data": {
      "text/plain": [
       "[<matplotlib.lines.Line2D at 0x2695e5314f0>]"
      ]
     },
     "execution_count": 119,
     "metadata": {},
     "output_type": "execute_result"
    },
    {
     "data": {
      "image/png": "[encoded data removed]",
      "text/plain": [
       "<Figure size 432x288 with 1 Axes>"
      ]
     },
     "metadata": {
      "needs_background": "light"
     },
     "output_type": "display_data"
    }
   ],
   "source": [
    "plt.plot(asset_list)"
   ]
  },
  {
   "cell_type": "markdown",
   "metadata": {},
   "source": [
    "## Cap-weighted portfolio"
   ]
  },
  {
   "cell_type": "code",
   "execution_count": 128,
   "metadata": {},
   "outputs": [
    {
     "name": "stdout",
     "output_type": "stream",
     "text": [
      "2018-10-16 00:00:00\n",
      "2018-10-17 00:00:00\n",
      "1.0018285922302812 1.0018285922302812\n",
      "2018-10-18 00:00:00\n",
      "0.9887356034396484 0.9905435976819005\n",
      "2018-10-19 00:00:00\n",
      "1.0053456446636504 0.9958386917789618\n",
      "2018-10-20 00:00:00\n",
      "2018-10-21 00:00:00\n",
      "2018-10-22 00:00:00\n",
      "0.999763652880564 0.9956033281727369\n",
      "2018-10-23 00:00:00\n",
      "0.9987044274422467 0.9943134518223485\n",
      "2018-10-24 00:00:00\n",
      "0.970452528205537 0.9649340031497725\n",
      "2018-10-25 00:00:00\n",
      "1.0224077042732702 0.9865559589355754\n",
      "2018-10-26 00:00:00\n",
      "0.9863696851032406 0.9731088905520091\n",
      "2018-10-27 00:00:00\n",
      "2018-10-28 00:00:00\n",
      "2018-10-29 00:00:00\n",
      "0.9928632651174372 0.9661640703882746\n",
      "2018-10-30 00:00:00\n",
      "1.0104698276187423 0.9762796416566621\n",
      "2018-10-31 00:00:00\n",
      "1.0124976462807476 0.9884808392891821\n",
      "2018-11-01 00:00:00\n",
      "1.0042077950052635 0.9926401640275417\n",
      "2018-11-02 00:00:00\n",
      "0.9845206232687698 0.9772747129700092\n",
      "2018-11-03 00:00:00\n",
      "2018-11-04 00:00:00\n",
      "2018-11-05 00:00:00\n",
      "1.0002322238316086 0.9775016594483893\n",
      "2018-11-06 00:00:00\n",
      "1.0040364380230515 0.9814472843141827\n",
      "2018-11-07 00:00:00\n",
      "1.0243589033269254 1.0053542638332653\n",
      "2018-11-08 00:00:00\n",
      "0.9977465784682117 1.0030887768880683\n",
      "2018-11-09 00:00:00\n",
      "0.9911925387985434 0.9942541114040101\n",
      "2018-11-10 00:00:00\n",
      "2018-11-11 00:00:00\n",
      "2018-11-12 00:00:00\n",
      "0.9788492384524318 0.9732248797760146\n",
      "2018-11-13 00:00:00\n",
      "0.9941093385731735 0.9674919415170902\n",
      "2018-11-14 00:00:00\n",
      "0.9847240816318645 0.9527126135966462\n",
      "2018-11-15 00:00:00\n",
      "1.0123948359371728 0.9645213301374518\n",
      "2018-11-16 00:00:00\n",
      "1.0077541551765365 0.972000378202417\n",
      "2018-11-17 00:00:00\n",
      "2018-11-18 00:00:00\n",
      "2018-11-19 00:00:00\n",
      "0.9856135408688613 0.9580167344859566\n",
      "2018-11-20 00:00:00\n",
      "0.973192581717818 0.9323347791632615\n",
      "2018-11-21 00:00:00\n",
      "0.9978025875239429 0.9302860550876662\n",
      "2018-11-22 00:00:00\n",
      "2018-11-23 00:00:00\n",
      "0.9921739199274732 0.923005561930195\n",
      "2018-11-24 00:00:00\n",
      "2018-11-25 00:00:00\n",
      "2018-11-26 00:00:00\n",
      "1.0149966399368007 0.9368475440021266\n",
      "2018-11-27 00:00:00\n",
      "1.0067665343378394 0.9431867550779374\n",
      "2018-11-28 00:00:00\n",
      "1.0251408119075542 0.9668992358810482\n",
      "2018-11-29 00:00:00\n",
      "0.9965668191495402 0.9635796959400972\n",
      "2018-11-30 00:00:00\n",
      "1.0051368238415106 0.9685294350953978\n",
      "2018-12-01 00:00:00\n",
      "2018-12-02 00:00:00\n",
      "2018-12-03 00:00:00\n",
      "1.0103596592534183 0.9785630700198918\n",
      "2018-12-04 00:00:00\n",
      "0.9730047852724375 0.952146549820242\n",
      "2018-12-05 00:00:00\n",
      "2018-12-06 00:00:00\n",
      "0.9948634497896794 0.9472558012595069\n",
      "2018-12-07 00:00:00\n",
      "0.9759976628971941 0.9245194481950878\n",
      "2018-12-08 00:00:00\n",
      "2018-12-09 00:00:00\n",
      "2018-12-10 00:00:00\n",
      "1.0054296444093804 0.9295392600483438\n",
      "2018-12-11 00:00:00\n",
      "1.0016312113025108 0.9310555349954621\n",
      "2018-12-12 00:00:00\n",
      "1.0006772424367916 0.9316860853147707\n",
      "2018-12-13 00:00:00\n",
      "1.0067981028259996 0.9380197831242936\n",
      "2018-12-14 00:00:00\n",
      "0.9711029896789087 0.9109138157699631\n",
      "2018-12-15 00:00:00\n",
      "2018-12-16 00:00:00\n",
      "2018-12-17 00:00:00\n",
      "0.9791080901242559 0.8918830864263269\n",
      "2018-12-18 00:00:00\n",
      "1.000416488132079 0.8922545451470254\n",
      "2018-12-19 00:00:00\n",
      "0.9864818710026863 0.8801929331072884\n",
      "2018-12-20 00:00:00\n",
      "0.9816386878773551 0.8640314359343592\n",
      "2018-12-21 00:00:00\n",
      "0.981020477688594 0.8476325320182868\n",
      "2018-12-22 00:00:00\n",
      "2018-12-23 00:00:00\n",
      "2018-12-24 00:00:00\n",
      "0.9678408171027464 0.8203733623914485\n",
      "2018-12-25 00:00:00\n",
      "2018-12-26 00:00:00\n",
      "1.051798592877926 0.8628675481978585\n",
      "2018-12-27 00:00:00\n",
      "1.006612145803428 0.8685729542355892\n",
      "2018-12-28 00:00:00\n",
      "0.9975092118963053 0.8664095230539882\n",
      "2018-12-29 00:00:00\n",
      "2018-12-30 00:00:00\n",
      "2018-12-31 00:00:00\n",
      "1.010677133397406 0.8756602931084186\n"
     ]
    }
   ],
   "source": [
    "size = 10\n",
    "window = 30\n",
    "day = pd.Timedelta(days=1)\n",
    "\n",
    "start_date = date_list[window]\n",
    "end_date = date_list[-1]\n",
    "\n",
    "now_date = start_date\n",
    "\n",
    "asset = 1\n",
    "BM_asset_list = [1]\n",
    "\n",
    "while(now_date <= end_date):\n",
    "    print(now_date)\n",
    "    if now_date in date_list:\n",
    "        if now_date > start_date:\n",
    "            ret = 0\n",
    "            for idx in range(len(long_list)):\n",
    "                ret += long_weight[idx]*(SEP[(SEP.ticker == long_list[idx]) & (SEP.date == now_date)].close.values[0]\n",
    "                                  / SEP[(SEP.ticker == long_list[idx]) & (SEP.date == yesterday(now_date))].close.values[0])\n",
    "            asset = ret*asset\n",
    "            BM_asset_list.append(asset)\n",
    "            print(ret, asset)\n",
    "        \n",
    "        long_list = daily.loc[daily['date']==now_date].sort_values('marketcap')[-size:]['ticker'].tolist()\n",
    "        long_weight = []\n",
    "        for long in long_list:\n",
    "            weight = daily.loc[(daily.date == now_date) & (daily.ticker == long)].marketcap.values[0]\n",
    "            long_weight.append(weight)\n",
    "        long_weight /= np.sum(long_weight)\n",
    "        \n",
    "        \n",
    "    now_date += day"
   ]
  },
  {
   "cell_type": "code",
   "execution_count": 129,
   "metadata": {},
   "outputs": [
    {
     "data": {
      "text/plain": [
       "<matplotlib.legend.Legend at 0x2695fb23df0>"
      ]
     },
     "execution_count": 129,
     "metadata": {},
     "output_type": "execute_result"
    },
    {
     "data": {
      "image/png": "[encoded data removed]",
      "text/plain": [
       "<Figure size 432x288 with 1 Axes>"
      ]
     },
     "metadata": {
      "needs_background": "light"
     },
     "output_type": "display_data"
    }
   ],
   "source": [
    "plt.plot(BM_asset_list)\n",
    "plt.plot(asset_list)\n",
    "plt.legend(['CAP','GMV'])"
   ]
  },
  {
   "cell_type": "code",
   "execution_count": 130,
   "metadata": {},
   "outputs": [
    {
     "ename": "AttributeError",
     "evalue": "module 'numpy' has no attribute 'stdev'",
     "output_type": "error",
     "traceback": [
      "\u001b[1;31m---------------------------------------------------------------------------\u001b[0m",
      "\u001b[1;31mAttributeError\u001b[0m                            Traceback (most recent call last)",
      "\u001b[1;32m<ipython-input-130-a23474e8d541>\u001b[0m in \u001b[0;36m<module>\u001b[1;34m\u001b[0m\n\u001b[1;32m----> 1\u001b[1;33m \u001b[0mnp\u001b[0m\u001b[1;33m.\u001b[0m\u001b[0mstdev\u001b[0m\u001b[1;33m(\u001b[0m\u001b[0masset_list\u001b[0m\u001b[1;33m)\u001b[0m\u001b[1;33m\u001b[0m\u001b[1;33m\u001b[0m\u001b[0m\n\u001b[0m",
      "\u001b[1;32m~\\AppData\\Roaming\\Python\\Python38\\site-packages\\numpy\\__init__.py\u001b[0m in \u001b[0;36m__getattr__\u001b[1;34m(attr)\u001b[0m\n\u001b[0;32m    217\u001b[0m                 \u001b[1;32mreturn\u001b[0m \u001b[0mTester\u001b[0m\u001b[1;33m\u001b[0m\u001b[1;33m\u001b[0m\u001b[0m\n\u001b[0;32m    218\u001b[0m             \u001b[1;32melse\u001b[0m\u001b[1;33m:\u001b[0m\u001b[1;33m\u001b[0m\u001b[1;33m\u001b[0m\u001b[0m\n\u001b[1;32m--> 219\u001b[1;33m                 raise AttributeError(\"module {!r} has no attribute \"\n\u001b[0m\u001b[0;32m    220\u001b[0m                                      \"{!r}\".format(__name__, attr))\n\u001b[0;32m    221\u001b[0m \u001b[1;33m\u001b[0m\u001b[0m\n",
      "\u001b[1;31mAttributeError\u001b[0m: module 'numpy' has no attribute 'stdev'"
     ]
    }
   ],
   "source": []
  },
  {
   "cell_type": "code",
   "execution_count": null,
   "metadata": {},
   "outputs": [],
   "source": []
  },
  {
   "cell_type": "code",
   "execution_count": null,
   "metadata": {},
   "outputs": [],
   "source": []
  },
  {
   "cell_type": "code",
   "execution_count": null,
   "metadata": {},
   "outputs": [],
   "source": []
  },
  {
   "cell_type": "code",
   "execution_count": null,
   "metadata": {},
   "outputs": [],
   "source": []
  },
  {
   "cell_type": "code",
   "execution_count": null,
   "metadata": {},
   "outputs": [],
   "source": []
  }
 ],
 "metadata": {
  "kernelspec": {
   "display_name": "Python 3",
   "language": "python",
   "name": "python3"
  },
  "language_info": {
   "codemirror_mode": {
    "name": "ipython",
    "version": 3
   },
   "file_extension": ".py",
   "mimetype": "text/x-python",
   "name": "python",
   "nbconvert_exporter": "python",
   "pygments_lexer": "ipython3",
   "version": "3.8.3"
  }
 },
 "nbformat": 4,
 "nbformat_minor": 4
}
